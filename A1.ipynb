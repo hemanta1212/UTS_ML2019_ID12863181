{
  "nbformat": 4,
  "nbformat_minor": 0,
  "metadata": {
    "colab": {
      "name": "A1.ipynb",
      "version": "0.3.2",
      "provenance": [],
      "include_colab_link": true
    },
    "kernelspec": {
      "name": "python3",
      "display_name": "Python 3"
    }
  },
  "cells": [
    {
      "cell_type": "markdown",
      "metadata": {
        "id": "view-in-github",
        "colab_type": "text"
      },
      "source": [
        "<a href=\"https://colab.research.google.com/github/hemanta1212/UTS_ML2019_ID12863181/blob/master/A1.ipynb\" target=\"_parent\"><img src=\"https://colab.research.google.com/assets/colab-badge.svg\" alt=\"Open In Colab\"/></a>"
      ]
    },
    {
      "cell_type": "code",
      "metadata": {
        "id": "s08fpKPjeODa",
        "colab_type": "code",
        "colab": {}
      },
      "source": [
        "\n",
        "Title \n",
        "A critique report on a developed face recognition algorithm\n",
        "(BEL97_fisherface-pami97.pdf)\n",
        "\n",
        "\n",
        "Background \n",
        "\n",
        "The paper titled Eigenfaces vs. Fisher faces: Recognition Using Class Specific Linear Projection by James and David is chosen for reading since the idea in the paper presented clearly. The development of an algorithm capable of identifying and authenticating facial images is important and unique in the science field. The major contribution the paper has made is to develop an algorithm that is insensitive to light, pose and glass differences and also it has laid a strong scientific background to the development of other facial recognition algorithm.\n",
        "\n",
        "Introduction\n",
        "\n",
        "Technology changes every day. The upgrades in this field of technology are undeniable and amusing as they consistently produce new innovations and creativity into the field. According to Chen B 2012 the face recognition system is been used in my many fields of technology especially in mobile phones industries. Nearly all android phones been produced recently have the face recognition system install as a way of unlocking the mobile device. According to Wechsler H 2012 the face recognition knowledge has moved to all dimension of technology and science fields such as in hospitals, airports and boundary checks, advertisement and also in sports to verify the identity of the individuals included.\n",
        " According to Gallagher A.C 2012 the images taken by the face algorithm devices have improved user interface enabling them to have advanced features including Passive UX (no activity required), single shot analysis, availability of cross channel inputs, detection of hard design images (flat images) and also the ability to authenticate natural face activities which are aimed at improving the securities of the devices having this application. Zhang X and Gao Y 2012 suggests that face recognition is easily accepted by people because it is easy to use and time saving for instance it just takes a fraction of a minute to get authenticated by the face recognition algorithms.\n",
        " Johnston R.A 2009 defined face recognition system as a technical software capable of identifying a person or a verifying the person’s identity using facial images in order to grant access to a facility, gadget or to pass a designated security checkpoint. According to Naseem. I, Togneri. R and Bennamoun. M. 2010 face recognition eigen values matrices can be evaluated by the use of principal component analysis and the linear discriminant analysis. Various innovations have been made to improve the ability of these software facial images recognition and verification in order to increase its security reliance. The innovative attempts includes tasting the ability of software’s recognition and verification of facial images in different environments including dark and bright light, detection of like faces and in different weather conditions.\n",
        "The innovations include the use of both eigenfaces and fisherfaces. Ozen. F 2012 defined eigenfaces as the values attached to computerized eigen vectors values to represent a person’s facial image. The facial images are taken such that the probability distribution of the eigen values are used to form the required covariance matrix by use of principal component analysis. Abidin. Z. and Harjoko A 2012 defined fisherface as one of the most used algorithms in face recognition which was developed to determine the matrix that increases the ratio between class scatter to the within class scatter images using elastic map matching on the linear discriminant analysis.\n",
        "  \n",
        "Content\n",
        "\n",
        "The paper is about development of a face recognition algorithm that is not sensitive to different variations including pose, glass recognition, light brightness variation and face expression differences by comparing two methods based on  Lambertian surface (the fisherface and eigenface). Johnson M.K. and Adelson 2009 defined a Lambertian surface as a surface that reflects light images with the same brightness despite the viewers or the observers viewing angle. The design used took two approaches using a Lambertian surface. The approaches were:\n",
        "i.\tEvery image of a Lambertian surface sourced from a constant viewpoint and illuminated differently lies in a 3D linear subspace. This is because these Lambertian surfaces have the same light reflectance properties at all angles. \n",
        "ii.\tFace images are not Lambertian materials since they do form their own self shadows and therefore not all regions of the face will have the same Lambertian properties.\n",
        "  The paper also gives some insight information about the development of the facial recognition systems siting that it begun around eighty years ago. R. Fisher designed a face recognition pattern which uses linear discriminant analysis to verify facial images which was later named after him to be Fisher linear discriminant analysis. He was motivated by the idea that each human face has some different and unique facial details, just like in human being recognizing each other through face looking. Fisher wanted the computer to do the same. His innovation has today been used and applied almost all fields that uses computer facial vision and facial imagery identification, also different scholars and scientist have benefitted from his work and developed other systems related to facial recognition. Eigen face algorithm uses principal component analysis (mostly used in pattern recognition, where by its objective is to replace the corrected vectors dimensionally high with the uncorrected vector dimensionally low. It is effective since it does not use a bigger storage) to compute the face authentication and face identification while fisher uses linear discriminant analysis to compute the face authentication and face identification. \n",
        "The major challenge the paper tries to solve is face authentication and face identification. Authentication is the process of showing that something is true or correct however Fujiwara K. 2011 defined face authentication as the process of granting persons access to something or somewhere depending on who they are.  Guillaumin M. Verbeek and schmid 2009 defined face identification as the process of recognizing and identifying persons based on facial details. The paper attempts to test different aspects and variations of facial image recognition in order to improve face authentication and face identification process. The variations; includes pose, lightning brightness, facial expression and glass recognition tested in comparison of two facial dimension of face imagery. The two dimensions are eigenfaces and fisherfaces. \n",
        "\n",
        "Innovation\n",
        "\n",
        "According to Jain A.K and Li S.K 2011, the face recognition algorithms that were developed earlier faced many complicated challenges including face authentication and face identification problems when the set conditions were varied. Changing conditions incudes; light changes, wearing of glass by the viewer, taking different pose and facial appearance. The algorithms designed earlier could not perform to the expectations with these adverse conditions. It is to these challenges that the paper was developed to solve the named challenges. The paper contributes a facial recognition algorithm.\n",
        "The author of the paper has created a face recognition algorithm that is not sensitive to light changes and face appearance using the facial image details. To achieve and realize his target algorithm, the paper authors performs several experiments using different methods and two databases namely eigenface and fisherface. The eigenface algorithm takes the following steps: training set reading, image fitting, selection of the training set, creation of the Matrix by subtracting the training set face with the mean face image, finding the correlation matrix, calculating the eigen vectors and eigen faces and finally finding an image with the minimum Euclidean distance. The eigenface method might have been used in the experiment because it is independent of the facial geometry and also it’s natural simplicity because it does not need complex soft-wares for usage.\n",
        "The first experiment was about the hypothesis testing of an illuminated variable on the face recognition algorithm that can execute differently and produce good and desired results on a given Lambertian surface. From the database sourced from the Harvard Robotics Laboratory, every image used in the experiment was clasped by one of the five subjects (each having sixty six images) then it was propagated by a designed light source. The light sourced were varied with an increasing unit angle of fifteen degrees. Ideally the paper aims at reducing the within class-scatter while preserving the between class-scatter. It was included that with the removal of the first three PCA (principal components analysis) components of the eigenface resulted in an improve image quality. Generally considering the experiments done, the fisherface database method was concluded to be experimentally better than the eigenface database method.\n",
        "In writing it is unusual for a writer to use a method then to go ahead and site its disadvantages, in fact most writers ignore the negative parts of the methods they used and only focus on its advantages. In the paper provided we were able to observe that the writer uses a method called correlation highlighting that it has the easiest classifier in the nearest neighbor’s formulae. The writer goes ahead showing how the correlation is applied in imagery: Having an image in the test set identified by labeling it to the nearest position in the learning set having the length considered in the image, all the images should have zero mean and unit variance after undergoing a normalization process. The disadvantages of this correlation method discussed in the paper incudes; that is an expensive process, correlation to be effectively needs large amounts of storage and the lastly that the process of changing the lightness would be resulting in images that are combined images and would therefore require a complex the processes in the learning set.\n",
        "Technical quality\n",
        "The technical quality in the paper is of high quality. This is due the excellent use of the training sets and the learning set, use of enough and moderately required experiments to make conclusions, it has a coherent flow, and for instance the paper could be easily read and understood by a reader.\n",
        " According to Domingos P. M 2012, the main idea behind machine learning is to predict more results beyond the experiments or examples in the training set. In the paper on the eigenface method correlation it is clearly seen that the correlations of the eigenfaces matches the size of the training set. As the experiments proceeds, the author does not expect the eigenface correlation to improve. Also on the fisherface method lightness experiment, the paper shows that while attempting to minimize the within class-scatter for every available class, then it was expected that it can relay projections directions that can identify facial images that are superior to those in the training set.\n",
        "In the paper three experiments were done testing different aspects namely: changes in light, varying of facial expression and eye wear and testing the recognition of the glass. The way and the depth at which each experiment was carried out were convincing. For example the experiment testing the lights variation was done by sourcing data from Harvard Robotics laboratory. A total of three hundred and thirty images were used, from five persons, each contributing sixty six images. The images were then propagated by a light bulb, altering the angles by increasing it by fifteen degrees. Also in the facial images recognition experiment the number of images were sourced from sixteen persons with varied gender, age and facial condition including presence of hair and glass conditions. Considering how these experiments were done it is sufficient to say that the results obtained were significantly accurate thereby making the conclusions raised also accurate and efficient. \n",
        "The technical quality of the paper is visible on how the work is presented. The paper work can be understood easily and the basic idea of the paper be seen at glance with the understanding of how the problem of face authentication and face identification it tries to solve by comparing the two methods; eigenface and fisherface. This is further supported with the authors cited in the paper including Hallinan, Moses et al, Nayar and Murase who contributed differently to the writing of the paper.\n",
        "\n",
        "X factor\n",
        "\n",
        "The development of a face recognition algorithm using specified class linear projections is appropriate using the eigenface and the fisherface methods. It is appropriate because comprehensive experiments encompassing the usage of over three hundred images were done on a complete comparison of the two techniques to give significant conclusions that led to the development of the new face recognition algorithm.\n",
        "Development of such great application such as face recognition algorithm that can identify and authenticate faces can be applied in many aspects of the computer vision. According to Hassaballah M and Aly S 2015 face recognition could be used in advertising to identify potential markets like a detected face of a young girl would be shown make-ups ads while the face of a young boy would be shown ads relating to games and movies. Face recognition can also be applied in security systems whereby the systems checks would be fitted with face scanners that would only allow access to permitted individuals, this algorithm can be used in payments and checks clearances to facilitate faster means of payments as opposed to the old signing style. Jafri R and Arabnia 2009 suggested that face recognition in the healthcare departments can be an important utility that can be used in determining patient’s age, sickness and other bio-data required. This is important as it saves the doctors time and efforts. In African countries many old people do not know their dates of birth, thereby just guessing their ages. This face recognition can help doctors know the exact age of such individuals. Parmar D.N 2014 suggested that the airports and boundary checks should apply the face recognition technologies in order to boost security through severe identification and authentication of persons passing the security check points. \n",
        "According to Ramchandra A and Kumar R 2013 and Bhatia R 2013 the use of facial recognition systems as a security utility is still not safe enough since it can fail in extreme conditions such as identical twins face might look exceedingly similar for the scanners, also lightness problems and different poses. To boost services rendered by face recognition system, Parkhi O.M 2015 recommended the importance of supporting face identification and verification processes by other biometric appliances such as the fingerprint scanner which is more secure compared to the face recognition. Masuda M 2012 recommended that face recognition system should have its scanners position at an angle than would not be affected by lights or should have apparatus that controls the light and taking care of the different poses that might be observed.\n",
        "The experiments done in the paper could spark a good discussion in class. The students or readers can discuss, demonstrate, and redo the experiments just to confirm the results. What’s interesting about the paper is the innovation of the new algorithm using by comparing two methods, also how fisher develop the fisherface method is also interesting.  The students can be asked to suggest ways to improve the developed algorithm or develop a new face recognition algorithm using different methods.\n",
        "\n",
        "Presentation\n",
        "\n",
        "The presentation in the paper was fairly done, the structure is clear.  The arguments, statements and discussions in the text were not easily understood. Some points were not clearly outlined for instance in the explanation of the developed of the face recognition algorithm, much emphasis was given to the comparison of the two methods used fisherface and eigenface using the experiments done. Very little discussion was given on the algorithm developed and its development.\n",
        "For the paper to have a good presentation the report should contain the following; a good research design which is instrumental in answering the research questions, a good research criteria that stipulates how the experiments in the research should be carried out, a clearly designed research methods having all the data of the participants data analysis and experimentation formulas and should also contain a discussion and conclusion part. The paper studied did have the parts mentioned but were not fully implemented as the discussion and conclusion parts were incomplete.\n",
        "The presentation in the paper could be improved by having the ideas and the thoughts of the author written in an easy and coherent form. Also it can be made better by giving enough explanation to points and discussion.  \n",
        "\n",
        "\n",
        "List of reference\n",
        "\n",
        "Abidin, Z., & Harjoko, A. (2012). A neural network based facial expression recognition using fisherface. International Journal of Computer Applications, 59(3).\n",
        "Bhatia, R., 2013. Biometrics and face recognition techniques. International Journal of Advanced Research in Computer Science and Software Engineering, 3(5).\n",
        "Chen, B., Shen, J. and Sun, H., 2012, May. A fast face recognition system on mobile phone. In 2012 International Conference on Systems and Informatics (ICSAI2012) (pp. 1783-1786). IEEE.\n",
        "Domingos, P. M. (2012). A few useful things to know about machine learning. Commun. acm, 55(10), 78-87.\n",
        "Fujiwara, K. (2011). U.S. Patent No. 7,974,446. Washington, DC: U.S. Patent and Trademark Office.\n",
        "Gallagher, A.C., Loui, A.C., Cerosaletti, C.D., Hibino, S.L., Das, M. and Stubler, P.O., Eastman Kodak Co, 2012. User interface for face recognition. U.S. Patent 8,315,463.\n",
        "Guillaumin, M., Verbeek, J., & Schmid, C. (2009, September). Is that you? Metric learning approaches for face identification. In 2009 IEEE 12th international conference on computer vision (pp. 498-505). IEEE.\n",
        "Hassaballah, M. and Aly, S., 2015. Face recognition: challenges, achievements and future directions. IET Computer Vision, 9(4), pp.614-626.\n",
        "Jafri, R. and Arabnia, H.R., 2009. A survey of face recognition techniques. Jips, 5(2), pp.41-68.\n",
        "Jain, A.K. and Li, S.Z., 2011. Handbook of face recognition. New York: springer.\n",
        "Johnson, M.K. and Adelson, E.H., 2009, June. Retrographic sensing for the measurement of surface texture and shape. In 2009 IEEE Conference on Computer Vision and Pattern Recognition (pp. 1070-1077). IEEE\n",
        "Johnston, R.A. and Edmonds, A.J., 2009. Familiar and unfamiliar face recognition: A review. Memory, 17(5), pp.577-596.\n",
        "Masuda, M. and Nagao, K., Oki Electric Industry Co Ltd, 2012. Face recognition system. U.S. Patent 8,340,366.\n",
        "Naseem, I., Togneri, R., & Bennamoun, M. (2010). Linear regression for face recognition. IEEE transactions on pattern analysis and machine intelligence, 32(11), 2106-2112.\n",
        "Özen, F. (2012). A face recognition system based on eigenfaces method. Procedia Technology, 1, 118-123.\n",
        "Parkhi, O.M., Vedaldi, A. and Zisserman, A., 2015, September. Deep face recognition. In bmvc (Vol. 1, No. 3, p. 6)..\n",
        "Parmar, D.N. and Mehta, B.B., 2014. Face recognition methods & applications. arXiv preprint arXiv:1403.0485.\n",
        "Ramchandra, A. and Kumar, R., 2013. Overview of face recognition system challenges. International Journal of Scientific & Technology Research, 2(8), pp.234-236\n",
        "Wechsler, H., Phillips, J.P., Bruce, V., Soulié, F.F. and Huang, T.S. eds., 2012. Face recognition: From theory to applications(Vol. 163). Springer Science & Business Media.\n",
        "Zhang, X. and Gao, Y., 2009. Face recognition across pose: A review. Pattern recognition, 42(11), pp.2876-2896.\n",
        "\n"
      ],
      "execution_count": 0,
      "outputs": []
    },
    {
      "cell_type": "markdown",
      "metadata": {
        "id": "izObjcPOgmAu",
        "colab_type": "text"
      },
      "source": [
        ""
      ]
    }
  ]
}